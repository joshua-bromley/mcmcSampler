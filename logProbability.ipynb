{
 "cells": [
  {
   "cell_type": "code",
   "execution_count": 2,
   "id": "db448f9d",
   "metadata": {},
   "outputs": [],
   "source": [
    "#Preamble\n",
    "import numpy as np\n",
    "import matplotlib.pyplot as plt\n",
    "from matplotlib import gridspec\n",
    "from matplotlib import colors\n",
    "from multiprocessing import Pool\n",
    "from multiprocessing import cpu_count\n",
    "import time\n",
    "import copy\n",
    "import pickle\n",
    "import emcee\n",
    "import corner"
   ]
  },
  {
   "cell_type": "code",
   "execution_count": 3,
   "id": "47dab8f8",
   "metadata": {},
   "outputs": [],
   "source": [
    "def generateEllipse(a,b,centerX,centerY, grid, opacity):\n",
    "    for x in range(len(grid)):\n",
    "        for y in range(len(grid[0])):\n",
    "            if a > 0 and b > 0:\n",
    "                if ((x-centerX)/a)*((x-centerX)/a) + ((y-centerY)/b)*((y-centerY)/b) <= 1:\n",
    "                    grid[x][y] = opacity\n",
    "    \n",
    "    return grid"
   ]
  },
  {
   "cell_type": "code",
   "execution_count": 4,
   "id": "3de2ffa6",
   "metadata": {},
   "outputs": [],
   "source": [
    "def transitSim(a,b,r, speed, times, tref, opacity):\n",
    "    ab = a/b\n",
    "    br = b/r\n",
    "    \n",
    "    tmin = tref - 1/(2*speed)\n",
    "    tmax = tref + 1/(2*speed)\n",
    "    transitTimes = [t for t in times if t >= tmin and t <= tmax]\n",
    "    flux = [1 for t in times if t < tmin]\n",
    "    differences = []\n",
    "    for i in range(1,len(transitTimes)):\n",
    "        differences.append(transitTimes[i] - transitTimes[i-1])\n",
    "    \n",
    "    minDiff = np.min(differences)\n",
    "    intDiffs = [int(d/minDiff) for d in differences]\n",
    "    length = np.sum(intDiffs)\n",
    "    \n",
    "    \n",
    "    res = int((2*(b+r))/length)\n",
    "    if res < 1:\n",
    "        res = 1\n",
    "    rnew = int(res*length/(2*(1+br)))\n",
    "    bnew = int(br*rnew)\n",
    "    anew = int(ab*bnew)\n",
    "    newIntDiffs = [res*i for i in intDiffs]\n",
    "    \n",
    "    starGrid = np.zeros([2*rnew, 4*bnew+2*rnew+4])\n",
    "    ellipseGrid = np.zeros([2*rnew, 4*bnew+2*rnew+4])\n",
    "    starGrid = generateEllipse(rnew,rnew,rnew, 2*bnew+rnew, starGrid,1)\n",
    "    ellipseGrid = generateEllipse(anew,bnew,rnew,3*bnew+2*rnew + 2,ellipseGrid,opacity)\n",
    "    planetGrid = np.ones([2*rnew,4*bnew+2*rnew+ 4]) - ellipseGrid\n",
    "    fluxGrid = np.multiply(starGrid,planetGrid)\n",
    "    initialFlux = np.sum(fluxGrid)\n",
    "    \n",
    "    for i in newIntDiffs:\n",
    "        for j in range(i):\n",
    "            planetGrid = np.delete(planetGrid,0,1)\n",
    "            planetGrid = np.append(planetGrid,np.ones([2*rnew,1]),1)\n",
    "            \n",
    "        \n",
    "        fluxGrid = np.multiply(starGrid,planetGrid)\n",
    "        percentFlux = np.sum(fluxGrid)/initialFlux\n",
    "        flux.append(percentFlux)\n",
    "        \n",
    "    for t in times:\n",
    "        if t > tmax:\n",
    "            flux.append(1)\n",
    "    \n",
    "    flux.append(1)\n",
    "    return flux"
   ]
  },
  {
   "cell_type": "code",
   "execution_count": 21,
   "id": "bd108891",
   "metadata": {},
   "outputs": [],
   "source": [
    "def logLikelihood(theta, times, flux, fluxErr):\n",
    "    \"\"\"\n",
    "    Calculates the log likelihood based on the difference between the model and the data\n",
    "    \n",
    "    Args:\n",
    "        theta (list) - parameters of the model\n",
    "        times (list) - time array of the light curve\n",
    "        flux (list) - array of flux data points\n",
    "        fluxErr (list) - array of errors for the flux data points\n",
    "    \n",
    "    Returns:\n",
    "        lnl (float) - log likelihood for the given theta values\n",
    "    \"\"\"\n",
    "    xdim, ydim, velocity, tRef, opacity = theta\n",
    "    fluxPredicted = transitSim(xdim, ydim,50,velocity,times, tRef,opacity)\n",
    "    error = [((flux[i] - fluxPredicted[i])**2) /(2*fluxErr[i]**2) for i in range(len(flux))]\n",
    "    lnl = -np.sum(error)\n",
    "    return lnl"
   ]
  },
  {
   "cell_type": "code",
   "execution_count": 22,
   "id": "36ee444e",
   "metadata": {},
   "outputs": [
    {
     "data": {
      "image/png": "[encoded data removed]",
      "text/plain": [
       "<Figure size 432x288 with 1 Axes>"
      ]
     },
     "metadata": {
      "needs_background": "light"
     },
     "output_type": "display_data"
    }
   ],
   "source": [
    "times = np.linspace(0,4,1000)\n",
    "flux = transitSim(10,10,50,1,times,2,1)\n",
    "fluxErr = 0.001*np.ones(1000)\n",
    "flux = flux + np.random.random(1000)*fluxErr\n",
    "fig = plt.subplot()\n",
    "fig.plot(times, flux, ls = '', marker = '.')\n",
    "plt.show()\n"
   ]
  },
  {
   "cell_type": "code",
   "execution_count": 31,
   "id": "2b78dcd9",
   "metadata": {},
   "outputs": [
    {
     "data": {
      "image/png": "[encoded data removed]",
      "text/plain": [
       "<Figure size 432x288 with 1 Axes>"
      ]
     },
     "metadata": {
      "needs_background": "light"
     },
     "output_type": "display_data"
    },
    {
     "name": "stdout",
     "output_type": "stream",
     "text": [
      "-3250.2515466444293\n"
     ]
    }
   ],
   "source": [
    "theta = [12,10,1,2,0.7]\n",
    "\n",
    "predictedFlux = transitSim(theta[0],theta[0],50,theta[2],times,theta[3],theta[4])\n",
    "fig = plt.subplot()\n",
    "fig.plot(times, flux, ls = '', marker = '.')\n",
    "fig.plot(times, predictedFlux)\n",
    "plt.show()\n",
    "\n",
    "print(logLikelihood(theta, times, flux, fluxErr))"
   ]
  },
  {
   "cell_type": "code",
   "execution_count": 26,
   "id": "8a9a1817",
   "metadata": {},
   "outputs": [
    {
     "data": {
      "text/plain": [
       "<matplotlib.image.AxesImage at 0x7f01f2919588>"
      ]
     },
     "execution_count": 26,
     "metadata": {},
     "output_type": "execute_result"
    },
    {
     "data": {
      "image/png": "[encoded data removed]",
      "text/plain": [
       "<Figure size 432x288 with 1 Axes>"
      ]
     },
     "metadata": {
      "needs_background": "light"
     },
     "output_type": "display_data"
    }
   ],
   "source": [
    "logProbabilities = []\n",
    "for i in range(8,12):\n",
    "    tempLogProbs = []\n",
    "    for j in range(8,12):\n",
    "        theta = [i,j,1,2,1]\n",
    "        tempLogProbs.append(logLikelihood(theta, times, flux, fluxErr))\n",
    "    logProbabilities.append(tempLogProbs)\n",
    "    \n",
    "fig = plt.subplot()\n",
    "fig.imshow(logProbabilities, cmap = 'viridis')"
   ]
  },
  {
   "cell_type": "code",
   "execution_count": null,
   "id": "f7b1222a",
   "metadata": {},
   "outputs": [],
   "source": []
  }
 ],
 "metadata": {
  "kernelspec": {
   "display_name": "Python 3 (ipykernel)",
   "language": "python",
   "name": "python3"
  },
  "language_info": {
   "codemirror_mode": {
    "name": "ipython",
    "version": 3
   },
   "file_extension": ".py",
   "mimetype": "text/x-python",
   "name": "python",
   "nbconvert_exporter": "python",
   "pygments_lexer": "ipython3",
   "version": "3.7.3"
  }
 },
 "nbformat": 4,
 "nbformat_minor": 5
}
