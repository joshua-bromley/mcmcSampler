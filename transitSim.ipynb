{
 "cells": [
  {
   "cell_type": "code",
   "execution_count": 2,
   "id": "09caa768",
   "metadata": {},
   "outputs": [],
   "source": [
    "#Preamble\n",
    "import numpy as np\n",
    "import matplotlib.pyplot as plt\n",
    "import time"
   ]
  },
  {
   "cell_type": "code",
   "execution_count": 3,
   "id": "7cc2ef1c",
   "metadata": {},
   "outputs": [],
   "source": [
    "def generateEllipse(a,b,centerX,centerY, grid):\n",
    "    for x in range(len(grid)):\n",
    "        for y in range(len(grid[0])):\n",
    "            if ((x-centerX)/a)*((x-centerX)/a) + ((y-centerY)/b)*((y-centerY)/b) <= 1:\n",
    "                grid[x][y] = 1\n",
    "    \n",
    "    return grid"
   ]
  },
  {
   "cell_type": "code",
   "execution_count": 74,
   "id": "7904d043",
   "metadata": {},
   "outputs": [],
   "source": [
    "def transitSim(a,b,r, speed, times, tref):\n",
    "    ab = a/b\n",
    "    br = b/r\n",
    "    \n",
    "    tmin = tref - 1/(2*speed)\n",
    "    tmax = tref + 1/(2*speed)\n",
    "    transitTimes = [t for t in times if t >= tmin and t <= tmax]\n",
    "    flux = [1 for t in times if t < tmin]\n",
    "    differences = []\n",
    "    for i in range(1,len(transitTimes)):\n",
    "        differences.append(transitTimes[i] - transitTimes[i-1])\n",
    "    \n",
    "    minDiff = np.min(differences)\n",
    "    intDiffs = [int(d/minDiff) for d in differences]\n",
    "    length = np.sum(intDiffs)\n",
    "    \n",
    "    res = int((2*(b+r))/length) + 1\n",
    "    rnew = int(res*length/(2*(1+br)))\n",
    "    bnew = int(br*rnew)\n",
    "    anew = int(ab*bnew)\n",
    "    newIntDiffs = [res*i for i in intDiffs]\n",
    "    print(np.sum(newIntDiffs))\n",
    "    print(2*rnew)\n",
    "    \n",
    "    \n",
    "    starGrid = np.zeros([2*rnew, 4*bnew+2*rnew+4])\n",
    "    ellipseGrid = np.zeros([2*rnew, 4*bnew+2*rnew+4])\n",
    "    starGrid = generateEllipse(rnew,rnew,rnew, 2*bnew+rnew, starGrid)\n",
    "    ellipseGrid = generateEllipse(anew,bnew,rnew,3*bnew+2*rnew + 2,ellipseGrid)\n",
    "    planetGrid = np.ones([2*rnew,4*bnew+2*rnew+ 4]) - ellipseGrid\n",
    "    fluxGrid = np.multiply(starGrid,planetGrid)\n",
    "    initialFlux = np.sum(fluxGrid)\n",
    "    \n",
    "    for i in newIntDiffs:\n",
    "        for j in range(i):\n",
    "            planetGrid = np.delete(planetGrid,0,1)\n",
    "            planetGrid = np.append(planetGrid,np.ones([2*rnew,1]),1)\n",
    "            \n",
    "        \n",
    "        fluxGrid = np.multiply(starGrid,planetGrid)\n",
    "        percentFlux = np.sum(fluxGrid)/initialFlux\n",
    "        flux.append(percentFlux)\n",
    "        \n",
    "    for t in times:\n",
    "        if t > tmax:\n",
    "            flux.append(1)\n",
    "    \n",
    "    flux.append(1)\n",
    "    return flux\n",
    "    "
   ]
  },
  {
   "cell_type": "code",
   "execution_count": 93,
   "id": "3fc156e2",
   "metadata": {},
   "outputs": [
    {
     "name": "stdout",
     "output_type": "stream",
     "text": [
      "249\n",
      "198\n",
      "0.14536166191101074\n"
     ]
    }
   ],
   "source": [
    "times = np.linspace(0,4,1000)\n",
    "timeStart = time.time()\n",
    "flux = transitSim(10,10,40,1,times,2)\n",
    "timeEnd = time.time()\n",
    "print(timeEnd - timeStart)"
   ]
  },
  {
   "cell_type": "code",
   "execution_count": 94,
   "id": "be48826f",
   "metadata": {},
   "outputs": [
    {
     "data": {
      "image/png": "[encoded data removed]",
      "text/plain": [
       "<Figure size 432x288 with 1 Axes>"
      ]
     },
     "metadata": {
      "needs_background": "light"
     },
     "output_type": "display_data"
    }
   ],
   "source": [
    "fig = plt.subplot()\n",
    "fig.plot(times,flux)\n",
    "plt.show()"
   ]
  },
  {
   "cell_type": "code",
   "execution_count": null,
   "id": "b3e902da",
   "metadata": {},
   "outputs": [],
   "source": []
  }
 ],
 "metadata": {
  "kernelspec": {
   "display_name": "Python 3 (ipykernel)",
   "language": "python",
   "name": "python3"
  },
  "language_info": {
   "codemirror_mode": {
    "name": "ipython",
    "version": 3
   },
   "file_extension": ".py",
   "mimetype": "text/x-python",
   "name": "python",
   "nbconvert_exporter": "python",
   "pygments_lexer": "ipython3",
   "version": "3.7.3"
  }
 },
 "nbformat": 4,
 "nbformat_minor": 5
}
