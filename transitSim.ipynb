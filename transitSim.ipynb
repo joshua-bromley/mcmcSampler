{
 "cells": [
  {
   "cell_type": "code",
   "execution_count": 45,
   "id": "09caa768",
   "metadata": {},
   "outputs": [],
   "source": [
    "#Preamble\n",
    "import numpy as np\n",
    "import matplotlib.pyplot as plt\n",
    "import time"
   ]
  },
  {
   "cell_type": "code",
   "execution_count": 3,
   "id": "7cc2ef1c",
   "metadata": {},
   "outputs": [],
   "source": [
    "def generateEllipse(a,b,centerX,centerY, grid):\n",
    "    for x in range(len(grid)):\n",
    "        for y in range(len(grid[0])):\n",
    "            if ((x-centerX)/a)*((x-centerX)/a) + ((y-centerY)/b)*((y-centerY)/b) <= 1:\n",
    "                grid[x][y] = 1\n",
    "    \n",
    "    return grid"
   ]
  },
  {
   "cell_type": "code",
   "execution_count": 41,
   "id": "7904d043",
   "metadata": {},
   "outputs": [],
   "source": [
    "def transitSim(a,b,r, velocity, times):\n",
    "    starGrid = np.zeros([2*r, 4*b+2*r])\n",
    "    ellipseGrid = np.zeros([2*r, 4*b+2*r])\n",
    "    starGrid = generateEllipse(r,r,r, 2*b+r, starGrid)\n",
    "    ellipseGrid = generateEllipse(a,b,r,3*b+2*r,ellipseGrid)\n",
    "    planetGrid = np.ones([2*r,4*b+2*r]) - ellipseGrid\n",
    "    fluxGrid = np.multiply(starGrid,planetGrid)\n",
    "    initialFlux = np.sum(fluxGrid)\n",
    "    flux = np.ones(2*r + 2*b)\n",
    "    \n",
    "    for i in range(2*r + 2*b):\n",
    "        planetGrid = np.delete(planetGrid,0,1)\n",
    "        planetGrid = np.append(planetGrid,np.ones([2*r,1]),1)\n",
    "        fluxGrid = np.multiply(starGrid,planetGrid)\n",
    "        percentFlux = np.sum(fluxGrid)/initialFlux\n",
    "        flux[i] = percentFlux\n",
    "    \n",
    "    return flux\n",
    "    "
   ]
  },
  {
   "cell_type": "code",
   "execution_count": 63,
   "id": "3fc156e2",
   "metadata": {},
   "outputs": [
    {
     "name": "stdout",
     "output_type": "stream",
     "text": [
      "0.19016742706298828\n"
     ]
    }
   ],
   "source": [
    "timeStart = time.time()\n",
    "flux = transitSim(25,25,100)\n",
    "timeEnd = time.time()\n",
    "print(timeEnd - timeStart)"
   ]
  },
  {
   "cell_type": "code",
   "execution_count": 64,
   "id": "be48826f",
   "metadata": {},
   "outputs": [
    {
     "data": {
      "image/png": "[encoded data removed]",
      "text/plain": [
       "<Figure size 432x288 with 1 Axes>"
      ]
     },
     "metadata": {
      "needs_background": "light"
     },
     "output_type": "display_data"
    }
   ],
   "source": [
    "fig = plt.subplot()\n",
    "fig.plot(flux)\n",
    "plt.show()"
   ]
  },
  {
   "cell_type": "code",
   "execution_count": null,
   "id": "b3e902da",
   "metadata": {},
   "outputs": [],
   "source": []
  }
 ],
 "metadata": {
  "kernelspec": {
   "display_name": "Python 3 (ipykernel)",
   "language": "python",
   "name": "python3"
  },
  "language_info": {
   "codemirror_mode": {
    "name": "ipython",
    "version": 3
   },
   "file_extension": ".py",
   "mimetype": "text/x-python",
   "name": "python",
   "nbconvert_exporter": "python",
   "pygments_lexer": "ipython3",
   "version": "3.7.3"
  }
 },
 "nbformat": 4,
 "nbformat_minor": 5
}
