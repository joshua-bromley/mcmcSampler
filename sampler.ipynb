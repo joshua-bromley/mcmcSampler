{
 "cells": [
  {
   "cell_type": "code",
   "execution_count": 1,
   "id": "31ffd4e1",
   "metadata": {},
   "outputs": [],
   "source": [
    "#Preamble\n",
    "import numpy as np\n",
    "import matplotlib.pyplot as plt\n",
    "from matplotlib import gridspec\n",
    "from matplotlib import colors\n",
    "from multiprocessing import Pool\n",
    "from multiprocessing import cpu_count\n",
    "import time\n",
    "import copy\n",
    "import pickle\n",
    "import emcee\n",
    "import corner\n",
    "import os\n",
    "\n",
    "os.environ[\"OMP_NUM_THREADS\"] = \"1\""
   ]
  },
  {
   "cell_type": "code",
   "execution_count": 2,
   "id": "ee71294f",
   "metadata": {},
   "outputs": [],
   "source": [
    "def generateEllipse(a,b,centerX,centerY, grid, opacity):\n",
    "    for x in range(len(grid)):\n",
    "        for y in range(len(grid[0])):\n",
    "            if a > 0 and b > 0:\n",
    "                if ((x-centerX)/a)*((x-centerX)/a) + ((y-centerY)/b)*((y-centerY)/b) <= 1:\n",
    "                    grid[x][y] = opacity\n",
    "    \n",
    "    return grid"
   ]
  },
  {
   "cell_type": "code",
   "execution_count": 3,
   "id": "4a419d11",
   "metadata": {},
   "outputs": [],
   "source": [
    "def transitSim(a,b,r, speed, times, tref, opacity):\n",
    "    ab = a/b\n",
    "    br = b/r\n",
    "    \n",
    "    tmin = tref - 1/(2*speed)\n",
    "    tmax = tref + 1/(2*speed)\n",
    "    transitTimes = [t for t in times if t >= tmin and t <= tmax]\n",
    "    flux = [1 for t in times if t < tmin]\n",
    "    differences = []\n",
    "    for i in range(1,len(transitTimes)):\n",
    "        differences.append(transitTimes[i] - transitTimes[i-1])\n",
    "    \n",
    "    minDiff = np.min(differences)\n",
    "    intDiffs = [int(d/minDiff) for d in differences]\n",
    "    length = np.sum(intDiffs)\n",
    "    \n",
    "    \n",
    "    res = int((2*(b+r))/length)\n",
    "    if res < 1:\n",
    "        res = 1\n",
    "    rnew = int(res*length/(2*(1+br)))\n",
    "    bnew = int(br*rnew)\n",
    "    anew = int(ab*bnew)\n",
    "    newIntDiffs = [res*i for i in intDiffs]\n",
    "    \n",
    "    starGrid = np.zeros([2*rnew, 4*bnew+2*rnew+4])\n",
    "    ellipseGrid = np.zeros([2*rnew, 4*bnew+2*rnew+4])\n",
    "    starGrid = generateEllipse(rnew,rnew,rnew, 2*bnew+rnew, starGrid,1)\n",
    "    ellipseGrid = generateEllipse(anew,bnew,rnew,3*bnew+2*rnew + 2,ellipseGrid,opacity)\n",
    "    planetGrid = np.ones([2*rnew,4*bnew+2*rnew+ 4]) - ellipseGrid\n",
    "    fluxGrid = np.multiply(starGrid,planetGrid)\n",
    "    initialFlux = np.sum(fluxGrid)\n",
    "    \n",
    "    for i in newIntDiffs:\n",
    "        for j in range(i):\n",
    "            planetGrid = np.delete(planetGrid,0,1)\n",
    "            planetGrid = np.append(planetGrid,np.ones([2*rnew,1]),1)\n",
    "            \n",
    "        \n",
    "        fluxGrid = np.multiply(starGrid,planetGrid)\n",
    "        percentFlux = np.sum(fluxGrid)/initialFlux\n",
    "        flux.append(percentFlux)\n",
    "        \n",
    "    for t in times:\n",
    "        if t > tmax:\n",
    "            flux.append(1)\n",
    "    \n",
    "    flux.append(1)\n",
    "    return flux"
   ]
  },
  {
   "cell_type": "code",
   "execution_count": 4,
   "id": "49727a69",
   "metadata": {},
   "outputs": [],
   "source": [
    "        def logLikelihood(theta, times, flux, fluxErr):\n",
    "            \"\"\"\n",
    "            Calculates the log likelihood based on the difference between the model and the data\n",
    "\n",
    "            Args:\n",
    "                theta (list) - parameters of the model\n",
    "                times (list) - time array of the light curve\n",
    "                flux (list) - array of flux data points\n",
    "                fluxErr (list) - array of errors for the flux data points\n",
    "\n",
    "            Returns:\n",
    "                lnl (float) - log likelihood for the given theta values\n",
    "            \"\"\"\n",
    "            xdim, ydim, velocity, tRef, opacity = theta\n",
    "            fluxPredicted = transitSim(xdim, ydim,50,velocity,times, tRef,opacity)\n",
    "            error = [((flux[i] - fluxPredicted[i])**2) /(2*fluxErr[i]**2) for i in range(len(flux))]\n",
    "            lnl = -np.sum(error)\n",
    "            return lnl"
   ]
  },
  {
   "cell_type": "code",
   "execution_count": 5,
   "id": "7865a66a",
   "metadata": {},
   "outputs": [],
   "source": [
    "def logPrior(theta, times):\n",
    "    \"\"\"\n",
    "    Returns flat priors, checking that the given theta values are physically possible\n",
    "    \n",
    "    Args:\n",
    "        theta (list) - parameters of the model\n",
    "        times (list) time array of the light curve\n",
    "        \n",
    "    Returns: \n",
    "        lnPrior (float) - fixed log prior value if theta values are allowed, -inf if theta values aren't\n",
    "    \"\"\"\n",
    "    xdim, ydim, velocity, tRef, opacity = theta\n",
    "    lnPrior = 0\n",
    "    if times[0] < tRef < times[-1]:##Check to see if center of transit is within the bounds of the light curve\n",
    "        lnPrior += np.log(1/(times[-1]-times[0]))\n",
    "    else:\n",
    "        return -np.inf\n",
    "    if 0 < xdim < 40 and 0 < ydim < 30 and 0 < velocity < 50 and 0 < opacity < 1.1: ##Check to see if the shape exists but is not larger than the star\n",
    "        ##Also check to see that it transits in a consistent direction and not extremely fast\n",
    "        lnPrior +=  2*np.log(1/100) + np.log(1/50) + np.log(1)\n",
    "    else:\n",
    "        return -np.inf\n",
    "    return lnPrior"
   ]
  },
  {
   "cell_type": "code",
   "execution_count": 6,
   "id": "5d6f85d2",
   "metadata": {},
   "outputs": [],
   "source": [
    "def logProbability(theta, times, flux, fluxErr):\n",
    "    \"\"\"\n",
    "    Combines the log likelihood and log prior to get log probability\n",
    "    \n",
    "    Args:\n",
    "        theta (list) - parameters of the model\n",
    "        times (list)\n",
    "    \"\"\"\n",
    "    startTime = time.time()\n",
    "    lp = logPrior(theta, times)\n",
    "    if not np.isfinite(lp):\n",
    "        return -np.inf\n",
    "    ll = logLikelihood(theta, times, flux, fluxErr)\n",
    "    endTime = time.time()\n",
    "    #print(endTime - startTime)\n",
    "    return (lp + ll)"
   ]
  },
  {
   "cell_type": "code",
   "execution_count": 7,
   "id": "a6d7e6b9",
   "metadata": {},
   "outputs": [],
   "source": [
    "def getData(filename, filetype = \"pkl\"): \n",
    "    \"\"\"\n",
    "    Reads the necessary data from the elanor pipeline TESS lightcurve pickle files\n",
    "    \n",
    "    Args:\n",
    "        filename (string) - name of the pickle file excluding the .pkl extension\n",
    "        \n",
    "    Returns:\n",
    "        times (list) - list of times of observations in moditied julian day\n",
    "        flux (list) - list of normalized flux values\n",
    "        err (list) - list of error for the flux values\n",
    "    \"\"\"\n",
    "    if filetype == \"pkl\":\n",
    "        fp = open(\"./\"+filename+\".pkl\",\"rb\") \n",
    "        data = pickle.load(fp)##Unpickles the file\n",
    "        fp.close()\n",
    "    \n",
    "        q = data[11]==0 ##Get the locations of high quality data\n",
    "        times = data[6][q]##Take only high quality data\n",
    "        flux = data[9][q]\n",
    "        maxFlux = np.median(flux)\n",
    "        flux /= maxFlux ##Normalize flux\n",
    "        err = np.ones_like(flux)*np.nanstd(np.diff(flux))##Calculate error\n",
    "        err /= np.sqrt(2)\n",
    "        return times, flux, err\n",
    "    if filetype == \"txt\":\n",
    "        times, flux,err = np.loadtxt(filename + '.txt', unpack = True)\n",
    "        return times, flux, err\n",
    "        "
   ]
  },
  {
   "cell_type": "code",
   "execution_count": 8,
   "id": "893c24cc",
   "metadata": {},
   "outputs": [
    {
     "data": {
      "image/png": "[encoded data removed]",
      "text/plain": [
       "<Figure size 432x288 with 1 Axes>"
      ]
     },
     "metadata": {
      "needs_background": "light"
     },
     "output_type": "display_data"
    }
   ],
   "source": [
    "times, flux, _ = getData(\"lcs/tesslc_400799224\")\n",
    "fig = plt.subplot()\n",
    "fig.plot(times, flux)\n",
    "plt.show()"
   ]
  },
  {
   "cell_type": "code",
   "execution_count": 9,
   "id": "02e5ae3a",
   "metadata": {},
   "outputs": [
    {
     "data": {
      "image/png": "[encoded data removed]",
      "text/plain": [
       "<Figure size 432x288 with 1 Axes>"
      ]
     },
     "metadata": {
      "needs_background": "light"
     },
     "output_type": "display_data"
    },
    {
     "name": "stdout",
     "output_type": "stream",
     "text": [
      "8 CPUs\n"
     ]
    }
   ],
   "source": [
    "times, flux, fluxErr = getData(\"lcs/a3b10v5o1\", filetype = \"txt\") \n",
    "fig = plt.subplot()\n",
    "fig.plot(times, flux, ls = '', marker = '.')\n",
    "plt.show()\n",
    "\n",
    "ncpu = cpu_count()\n",
    "print(\"{0} CPUs\".format(ncpu))"
   ]
  },
  {
   "cell_type": "code",
   "execution_count": null,
   "id": "b1bbf2d4",
   "metadata": {},
   "outputs": [
    {
     "name": "stderr",
     "output_type": "stream",
     "text": [
      "  0%|                                                                                                                               | 0/5000 [00:00<?, ?it/s]/home/jbromley/.local/lib/python3.7/site-packages/emcee/moves/red_blue.py:97: RuntimeWarning: invalid value encountered in double_scalars\n",
      "  lnpdiff = f + nlp - state.log_prob[j]\n",
      "  8%|█████████                                                                                                          | 395/5000 [21:31<5:25:17,  4.24s/it]"
     ]
    }
   ],
   "source": [
    "pos = [4,10,0.6,2,1] * np.ones([16,5]) + 2*np.random.random([16,5]) - 1\n",
    "nwalkers, ndim = pos.shape\n",
    "\n",
    "with Pool() as pool:\n",
    "    sampler = emcee.EnsembleSampler(nwalkers, ndim, logProbability, args = (times, flux, fluxErr), pool = pool)\n",
    "    sampler.run_mcmc(pos,5000, progress = True)"
   ]
  },
  {
   "cell_type": "code",
   "execution_count": null,
   "id": "47fd620f",
   "metadata": {},
   "outputs": [],
   "source": [
    "##This block plots the traces of the 4 parameters\n",
    "fig, axes = plt.subplots(6,figsize = (10,10), sharex = True)\n",
    "samples = sampler.get_chain()\n",
    "logProb = sampler.get_log_prob()\n",
    "labels = [\"X dim\", \"Y dim\", \"Pixel Speed\", \"Reference Time\", \"Opacity\"]\n",
    "for i in range(ndim):\n",
    "    axes[i].plot(samples[:,:,i],'k',alpha = 0.3)\n",
    "    axes[i].set_xlim(0,len(samples))\n",
    "    axes[i].set_ylabel(labels[i])\n",
    "    \n",
    "axes[5].plot(logProb[:,:],'k',alpha = 0.3)\n",
    "axes[5].set_xlim(0,len(samples))\n",
    "axes[-1].set_xlabel(\"Step Number\")\n",
    "plt.show()"
   ]
  },
  {
   "cell_type": "code",
   "execution_count": null,
   "id": "b41a40f2",
   "metadata": {},
   "outputs": [],
   "source": []
  },
  {
   "cell_type": "code",
   "execution_count": null,
   "id": "10aa0b73",
   "metadata": {},
   "outputs": [],
   "source": [
    "fig = plt.subplot()\n",
    "flat_samples = sampler.get_chain(discard=1000, thin=15, flat=True)\n",
    "inds = np.random.randint(len(flat_samples), size=100)\n",
    "for ind in inds:\n",
    "    try:\n",
    "        sample = flat_samples[ind]\n",
    "        sampleFlux = transitSim(sample[0],sample[1],50,sample[2],times,sample[3],sample[4])\n",
    "        fig.plot(times,sampleFlux,alpha = 0.1)\n",
    "    except:\n",
    "        print(\"Invalid parameters\", sample)\n",
    "    \n",
    "    \n",
    "fig.plot(times,flux)\n",
    "plt.show()\n",
    "    "
   ]
  },
  {
   "cell_type": "code",
   "execution_count": null,
   "id": "ee83e7bb",
   "metadata": {},
   "outputs": [],
   "source": [
    "tau = sampler.get_autocorr_time()\n",
    "print(tau)"
   ]
  },
  {
   "cell_type": "code",
   "execution_count": null,
   "id": "404bf4e0",
   "metadata": {},
   "outputs": [],
   "source": [
    "flatSamples = sampler.get_chain(discard = 500, flat = True)\n",
    "fig = corner.corner(flatSamples, bins = 40, labels = labels)"
   ]
  },
  {
   "cell_type": "code",
   "execution_count": null,
   "id": "8ff1ea79",
   "metadata": {},
   "outputs": [],
   "source": []
  }
 ],
 "metadata": {
  "kernelspec": {
   "display_name": "Python 3 (ipykernel)",
   "language": "python",
   "name": "python3"
  },
  "language_info": {
   "codemirror_mode": {
    "name": "ipython",
    "version": 3
   },
   "file_extension": ".py",
   "mimetype": "text/x-python",
   "name": "python",
   "nbconvert_exporter": "python",
   "pygments_lexer": "ipython3",
   "version": "3.7.3"
  }
 },
 "nbformat": 4,
 "nbformat_minor": 5
}
