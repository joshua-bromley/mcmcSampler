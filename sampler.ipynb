{
 "cells": [
  {
   "cell_type": "code",
   "execution_count": 1,
   "id": "31ffd4e1",
   "metadata": {},
   "outputs": [],
   "source": [
    "#Preamble\n",
    "import numpy as np\n",
    "import matplotlib.pyplot as plt\n",
    "import time\n",
    "import copy\n",
    "import pickle\n",
    "import emcee\n",
    "import corner"
   ]
  },
  {
   "cell_type": "code",
   "execution_count": 2,
   "id": "ee71294f",
   "metadata": {},
   "outputs": [],
   "source": [
    "def generateEllipse(a,b,centerX,centerY, grid):\n",
    "    for x in range(len(grid)):\n",
    "        for y in range(len(grid[0])):\n",
    "            if ((x-centerX)/a)*((x-centerX)/a) + ((y-centerY)/b)*((y-centerY)/b) <= 1:\n",
    "                grid[x][y] = 1\n",
    "    \n",
    "    return grid"
   ]
  },
  {
   "cell_type": "code",
   "execution_count": 3,
   "id": "4a419d11",
   "metadata": {},
   "outputs": [],
   "source": [
    "def transitSim(a,b,r, speed, times, tref):\n",
    "    ab = a/b\n",
    "    br = b/r\n",
    "    \n",
    "    tmin = tref - 1/(2*speed)\n",
    "    tmax = tref + 1/(2*speed)\n",
    "    transitTimes = [t for t in times if t >= tmin and t <= tmax]\n",
    "    flux = [1 for t in times if t < tmin]\n",
    "    differences = []\n",
    "    for i in range(1,len(transitTimes)):\n",
    "        differences.append(transitTimes[i] - transitTimes[i-1])\n",
    "    \n",
    "    minDiff = np.min(differences)\n",
    "    intDiffs = [int(d/minDiff) for d in differences]\n",
    "    length = np.sum(intDiffs)\n",
    "    \n",
    "    \n",
    "    res = int((2*(b+r))/length)\n",
    "    if res < 1:\n",
    "        res = 1\n",
    "    rnew = int(res*length/(2*(1+br)))\n",
    "    bnew = int(br*rnew)\n",
    "    anew = int(ab*bnew)\n",
    "    newIntDiffs = [res*i for i in intDiffs]\n",
    "    print(res)\n",
    "    print(np.sum(newIntDiffs))\n",
    "    print(2*(rnew+bnew))\n",
    "    \n",
    "    starGrid = np.zeros([2*rnew, 4*bnew+2*rnew+4])\n",
    "    ellipseGrid = np.zeros([2*rnew, 4*bnew+2*rnew+4])\n",
    "    starGrid = generateEllipse(rnew,rnew,rnew, 2*bnew+rnew, starGrid)\n",
    "    ellipseGrid = generateEllipse(anew,bnew,rnew,3*bnew+2*rnew + 2,ellipseGrid)\n",
    "    planetGrid = np.ones([2*rnew,4*bnew+2*rnew+ 4]) - ellipseGrid\n",
    "    fluxGrid = np.multiply(starGrid,planetGrid)\n",
    "    initialFlux = np.sum(fluxGrid)\n",
    "    \n",
    "    for i in newIntDiffs:\n",
    "        for j in range(i):\n",
    "            planetGrid = np.delete(planetGrid,0,1)\n",
    "            planetGrid = np.append(planetGrid,np.ones([2*rnew,1]),1)\n",
    "            \n",
    "        \n",
    "        fluxGrid = np.multiply(starGrid,planetGrid)\n",
    "        percentFlux = np.sum(fluxGrid)/initialFlux\n",
    "        flux.append(percentFlux)\n",
    "        \n",
    "    for t in times:\n",
    "        if t > tmax:\n",
    "            flux.append(1)\n",
    "    \n",
    "    flux.append(1)\n",
    "    return flux"
   ]
  },
  {
   "cell_type": "code",
   "execution_count": null,
   "id": "49727a69",
   "metadata": {},
   "outputs": [],
   "source": [
    "def logLikelihood(theta, times, flux, fluxErr):\n",
    "    \"\"\"\n",
    "    Calculates the log likelihood based on the difference between the model and the data\n",
    "    \n",
    "    Args:\n",
    "        theta (list) - parameters of the model\n",
    "        times (list) - time array of the light curve\n",
    "        flux (list) - array of flux data points\n",
    "        fluxErr (list) - array of errors for the flux data points\n",
    "    \n",
    "    Returns:\n",
    "        lnl (float) - log likelihood for the given theta values\n",
    "    \"\"\"\n",
    "    xdim, ydim, velocity, tRef = theta\n",
    "    fluxPredicted = transitSim(xdim, ydim,50,velocity,times, tRef)\n",
    "    lnl = -np.sum(((flux - fluxPredicted)**2) /(2*fluxErr**2))\n",
    "    return lnl"
   ]
  },
  {
   "cell_type": "code",
   "execution_count": null,
   "id": "7865a66a",
   "metadata": {},
   "outputs": [],
   "source": []
  },
  {
   "cell_type": "code",
   "execution_count": 4,
   "id": "a6d7e6b9",
   "metadata": {},
   "outputs": [],
   "source": [
    "def getData(filename): \n",
    "    \"\"\"\n",
    "    Reads the necessary data from the elanor pipeline TESS lightcurve pickle files\n",
    "    \n",
    "    Args:\n",
    "        filename (string) - name of the pickle file excluding the .pkl extension\n",
    "        \n",
    "    Returns:\n",
    "        times (list) - list of times of observations in moditied julian day\n",
    "        flux (list) - list of normalized flux values\n",
    "        err (list) - list of error for the flux values\n",
    "    \"\"\"\n",
    "    fp = open(\"./\"+filename+\".pkl\",\"rb\") \n",
    "    data = pickle.load(fp)##Unpickles the file\n",
    "    fp.close()\n",
    "    \n",
    "    q = data[11]==0 ##Get the locations of high quality data\n",
    "    times = data[6][q]##Take only high quality data\n",
    "    flux = data[9][q]\n",
    "    maxFlux = np.median(flux)\n",
    "    flux /= maxFlux ##Normalize flux\n",
    "    err = np.ones_like(flux)*np.nanstd(np.diff(flux))##Calculate error\n",
    "    err /= np.sqrt(2)\n",
    "    return times, flux, err"
   ]
  },
  {
   "cell_type": "code",
   "execution_count": 7,
   "id": "893c24cc",
   "metadata": {},
   "outputs": [
    {
     "data": {
      "image/png": "[encoded data removed]",
      "text/plain": [
       "<Figure size 432x288 with 1 Axes>"
      ]
     },
     "metadata": {
      "needs_background": "light"
     },
     "output_type": "display_data"
    }
   ],
   "source": [
    "times, flux, _ = getData(\"lcs/tesslc_400799224\")\n",
    "fig = plt.subplot()\n",
    "fig.plot(times, flux)\n",
    "plt.show()"
   ]
  },
  {
   "cell_type": "code",
   "execution_count": null,
   "id": "02e5ae3a",
   "metadata": {},
   "outputs": [],
   "source": []
  }
 ],
 "metadata": {
  "kernelspec": {
   "display_name": "Python 3 (ipykernel)",
   "language": "python",
   "name": "python3"
  },
  "language_info": {
   "codemirror_mode": {
    "name": "ipython",
    "version": 3
   },
   "file_extension": ".py",
   "mimetype": "text/x-python",
   "name": "python",
   "nbconvert_exporter": "python",
   "pygments_lexer": "ipython3",
   "version": "3.7.3"
  }
 },
 "nbformat": 4,
 "nbformat_minor": 5
}
